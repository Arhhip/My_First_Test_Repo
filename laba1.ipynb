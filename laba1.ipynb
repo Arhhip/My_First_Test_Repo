{
  "nbformat": 4,
  "nbformat_minor": 0,
  "metadata": {
    "colab": {
      "name": "laba1.ipynb",
      "provenance": [],
      "collapsed_sections": [],
      "toc_visible": true,
      "authorship_tag": "ABX9TyMdBq2ojZF5ErYeSQeCbIRp",
      "include_colab_link": true
    },
    "kernelspec": {
      "name": "python3",
      "display_name": "Python 3"
    }
  },
  "cells": [
    {
      "cell_type": "markdown",
      "metadata": {
        "id": "view-in-github",
        "colab_type": "text"
      },
      "source": [
        "<a href=\"https://colab.research.google.com/github/Arhhip/My_First_Test_Repo/blob/master/laba1.ipynb\" target=\"_parent\"><img src=\"https://colab.research.google.com/assets/colab-badge.svg\" alt=\"Open In Colab\"/></a>"
      ]
    },
    {
      "cell_type": "markdown",
      "metadata": {
        "id": "vqDghOOU2Pbi",
        "colab_type": "text"
      },
      "source": [
        "# Cпортивный автомобиль с самым ужасным дизайном\n",
        "## список пострадавших отраслей от коронавируса\n",
        "- авиаперевозки, аэропортовая деятельность, автоперевозки;\n",
        "- культура, организация досуга и развлечений;\n",
        "-физкультурно-оздоровительная деятельность и спорт;\n",
        "![](https://is4-ssl.mzstatic.com/image/thumb/Purple123/v4/2e/61/8c/2e618cf9-b527-1ac4-5a28-00471baef544/source/512x512bb.jpg)\n",
        "\n"
      ]
    },
    {
      "cell_type": "markdown",
      "metadata": {
        "id": "hvarH6HShiaU",
        "colab_type": "text"
      },
      "source": [
        "|Фамилия|Имя|\n",
        "|:-----:|:-----:|\n",
        "|Архипов|Александр|\n",
        "|Быстров|Илья|"
      ]
    },
    {
      "cell_type": "markdown",
      "metadata": {
        "id": "GvDdXu5kh0n7",
        "colab_type": "text"
      },
      "source": [
        "#Ссылка\n",
        "[yandex](https://yandex.ru)"
      ]
    }
  ]
}